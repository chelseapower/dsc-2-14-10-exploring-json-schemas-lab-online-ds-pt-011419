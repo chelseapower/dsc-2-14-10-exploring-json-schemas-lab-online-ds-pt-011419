{
 "cells": [
  {
   "cell_type": "markdown",
   "metadata": {},
   "source": [
    "# Exploring and Transforming JSON Schemas"
   ]
  },
  {
   "cell_type": "markdown",
   "metadata": {},
   "source": [
    "# Introduction\n",
    "\n",
    "In this lesson, we'll formalize how to explore a JSON file whose structure and schema is unknown to you. This often happens in practice when you are handed a file or stumble upon one with little documentation."
   ]
  },
  {
   "cell_type": "markdown",
   "metadata": {},
   "source": [
    "## Objectives\n",
    "You will be able to:\n",
    "* Explore unknown JSON schemas\n",
    "* Access and manipulate data inside a JSON file\n",
    "* Convert JSON to alternative data formats"
   ]
  },
  {
   "cell_type": "markdown",
   "metadata": {},
   "source": [
    "## Loading the JSON file\n",
    "\n",
    "Load the data from the file disease_data.json."
   ]
  },
  {
   "cell_type": "code",
   "execution_count": 1,
   "metadata": {},
   "outputs": [],
   "source": [
    "import json\n",
    "f = open('disease_data.json', 'r')\n",
    "data = json.load(f)"
   ]
  },
  {
   "cell_type": "markdown",
   "metadata": {},
   "source": [
    "## Explore the first and second levels of the schema hierarchy."
   ]
  },
  {
   "cell_type": "code",
   "execution_count": 9,
   "metadata": {},
   "outputs": [
    {
     "data": {
      "text/plain": [
       "dict"
      ]
     },
     "execution_count": 9,
     "metadata": {},
     "output_type": "execute_result"
    }
   ],
   "source": [
    "type(data)"
   ]
  },
  {
   "cell_type": "code",
   "execution_count": 10,
   "metadata": {},
   "outputs": [
    {
     "data": {
      "text/plain": [
       "dict_keys(['meta', 'data'])"
      ]
     },
     "execution_count": 10,
     "metadata": {},
     "output_type": "execute_result"
    }
   ],
   "source": [
    "data.keys()"
   ]
  },
  {
   "cell_type": "code",
   "execution_count": 11,
   "metadata": {},
   "outputs": [
    {
     "data": {
      "text/plain": [
       "dict"
      ]
     },
     "execution_count": 11,
     "metadata": {},
     "output_type": "execute_result"
    }
   ],
   "source": [
    "type(data['meta'])"
   ]
  },
  {
   "cell_type": "code",
   "execution_count": 12,
   "metadata": {},
   "outputs": [
    {
     "data": {
      "text/plain": [
       "dict_keys(['view'])"
      ]
     },
     "execution_count": 12,
     "metadata": {},
     "output_type": "execute_result"
    }
   ],
   "source": [
    "data['meta'].keys()"
   ]
  },
  {
   "cell_type": "code",
   "execution_count": 18,
   "metadata": {},
   "outputs": [
    {
     "data": {
      "text/plain": [
       "list"
      ]
     },
     "execution_count": 18,
     "metadata": {},
     "output_type": "execute_result"
    }
   ],
   "source": [
    "type(data['data'])"
   ]
  },
  {
   "cell_type": "code",
   "execution_count": 19,
   "metadata": {},
   "outputs": [
    {
     "data": {
      "text/plain": [
       "60266"
      ]
     },
     "execution_count": 19,
     "metadata": {},
     "output_type": "execute_result"
    }
   ],
   "source": [
    "len(data['data'])"
   ]
  },
  {
   "cell_type": "code",
   "execution_count": 20,
   "metadata": {},
   "outputs": [
    {
     "data": {
      "text/plain": [
       "list"
      ]
     },
     "execution_count": 20,
     "metadata": {},
     "output_type": "execute_result"
    }
   ],
   "source": [
    "#Extended: Third Level Details\n",
    "type(data['data'][0])"
   ]
  },
  {
   "cell_type": "code",
   "execution_count": 21,
   "metadata": {},
   "outputs": [
    {
     "data": {
      "text/plain": [
       "42"
      ]
     },
     "execution_count": 21,
     "metadata": {},
     "output_type": "execute_result"
    }
   ],
   "source": [
    "#Extended: Further Third Level Details (these make up the column entries for each row in the next question)\n",
    "len(data['data'][0])"
   ]
  },
  {
   "cell_type": "code",
   "execution_count": 22,
   "metadata": {},
   "outputs": [
    {
     "data": {
      "text/plain": [
       "'2016'"
      ]
     },
     "execution_count": 22,
     "metadata": {},
     "output_type": "execute_result"
    }
   ],
   "source": [
    "data['data'][0][8]"
   ]
  },
  {
   "cell_type": "markdown",
   "metadata": {},
   "source": [
    "## Convert to a DataFrame\n",
    "\n",
    "Create a DataFrame from the JSON file. Be sure to retrive the column names for the dataframe. (Search within the 'meta' key of the master dictionary.) The DataFrame should include all 42 columns."
   ]
  },
  {
   "cell_type": "code",
   "execution_count": 23,
   "metadata": {},
   "outputs": [
    {
     "name": "stdout",
     "output_type": "stream",
     "text": [
      "(60266, 42)\n",
      "Index(['sid', 'id', 'position', 'created_at', 'created_meta', 'updated_at',\n",
      "       'updated_meta', 'meta', 'YearStart', 'YearEnd', 'LocationAbbr',\n",
      "       'LocationDesc', 'DataSource', 'Topic', 'Question', 'Response',\n",
      "       'DataValueUnit', 'DataValueType', 'DataValue', 'DataValueAlt',\n",
      "       'DataValueFootnoteSymbol', 'DatavalueFootnote', 'LowConfidenceLimit',\n",
      "       'HighConfidenceLimit', 'StratificationCategory1', 'Stratification1',\n",
      "       'StratificationCategory2', 'Stratification2', 'StratificationCategory3',\n",
      "       'Stratification3', 'GeoLocation', 'ResponseID', 'LocationID', 'TopicID',\n",
      "       'QuestionID', 'DataValueTypeID', 'StratificationCategoryID1',\n",
      "       'StratificationID1', 'StratificationCategoryID2', 'StratificationID2',\n",
      "       'StratificationCategoryID3', 'StratificationID3'],\n",
      "      dtype='object')\n"
     ]
    },
    {
     "data": {
      "text/html": [
       "<div>\n",
       "<style scoped>\n",
       "    .dataframe tbody tr th:only-of-type {\n",
       "        vertical-align: middle;\n",
       "    }\n",
       "\n",
       "    .dataframe tbody tr th {\n",
       "        vertical-align: top;\n",
       "    }\n",
       "\n",
       "    .dataframe thead th {\n",
       "        text-align: right;\n",
       "    }\n",
       "</style>\n",
       "<table border=\"1\" class=\"dataframe\">\n",
       "  <thead>\n",
       "    <tr style=\"text-align: right;\">\n",
       "      <th></th>\n",
       "      <th>sid</th>\n",
       "      <th>id</th>\n",
       "      <th>position</th>\n",
       "      <th>created_at</th>\n",
       "      <th>created_meta</th>\n",
       "      <th>updated_at</th>\n",
       "      <th>updated_meta</th>\n",
       "      <th>meta</th>\n",
       "      <th>YearStart</th>\n",
       "      <th>YearEnd</th>\n",
       "      <th>...</th>\n",
       "      <th>LocationID</th>\n",
       "      <th>TopicID</th>\n",
       "      <th>QuestionID</th>\n",
       "      <th>DataValueTypeID</th>\n",
       "      <th>StratificationCategoryID1</th>\n",
       "      <th>StratificationID1</th>\n",
       "      <th>StratificationCategoryID2</th>\n",
       "      <th>StratificationID2</th>\n",
       "      <th>StratificationCategoryID3</th>\n",
       "      <th>StratificationID3</th>\n",
       "    </tr>\n",
       "  </thead>\n",
       "  <tbody>\n",
       "    <tr>\n",
       "      <th>0</th>\n",
       "      <td>1</td>\n",
       "      <td>FF49C41F-CE8D-46C4-9164-653B1227CF6F</td>\n",
       "      <td>1</td>\n",
       "      <td>1527194521</td>\n",
       "      <td>959778</td>\n",
       "      <td>1527194521</td>\n",
       "      <td>959778</td>\n",
       "      <td>None</td>\n",
       "      <td>2016</td>\n",
       "      <td>2016</td>\n",
       "      <td>...</td>\n",
       "      <td>59</td>\n",
       "      <td>ALC</td>\n",
       "      <td>ALC2_2</td>\n",
       "      <td>CRDPREV</td>\n",
       "      <td>OVERALL</td>\n",
       "      <td>OVR</td>\n",
       "      <td>None</td>\n",
       "      <td>None</td>\n",
       "      <td>None</td>\n",
       "      <td>None</td>\n",
       "    </tr>\n",
       "    <tr>\n",
       "      <th>1</th>\n",
       "      <td>2</td>\n",
       "      <td>F4468C3D-340A-4CD2-84A3-DF554DFF065E</td>\n",
       "      <td>2</td>\n",
       "      <td>1527194521</td>\n",
       "      <td>959778</td>\n",
       "      <td>1527194521</td>\n",
       "      <td>959778</td>\n",
       "      <td>None</td>\n",
       "      <td>2016</td>\n",
       "      <td>2016</td>\n",
       "      <td>...</td>\n",
       "      <td>01</td>\n",
       "      <td>ALC</td>\n",
       "      <td>ALC2_2</td>\n",
       "      <td>CRDPREV</td>\n",
       "      <td>OVERALL</td>\n",
       "      <td>OVR</td>\n",
       "      <td>None</td>\n",
       "      <td>None</td>\n",
       "      <td>None</td>\n",
       "      <td>None</td>\n",
       "    </tr>\n",
       "    <tr>\n",
       "      <th>2</th>\n",
       "      <td>3</td>\n",
       "      <td>65609156-A343-4869-B03F-2BA62E96AC19</td>\n",
       "      <td>3</td>\n",
       "      <td>1527194521</td>\n",
       "      <td>959778</td>\n",
       "      <td>1527194521</td>\n",
       "      <td>959778</td>\n",
       "      <td>None</td>\n",
       "      <td>2016</td>\n",
       "      <td>2016</td>\n",
       "      <td>...</td>\n",
       "      <td>02</td>\n",
       "      <td>ALC</td>\n",
       "      <td>ALC2_2</td>\n",
       "      <td>CRDPREV</td>\n",
       "      <td>OVERALL</td>\n",
       "      <td>OVR</td>\n",
       "      <td>None</td>\n",
       "      <td>None</td>\n",
       "      <td>None</td>\n",
       "      <td>None</td>\n",
       "    </tr>\n",
       "    <tr>\n",
       "      <th>3</th>\n",
       "      <td>4</td>\n",
       "      <td>0DB09B00-EFEB-4AC0-9467-A7CBD2B57BF3</td>\n",
       "      <td>4</td>\n",
       "      <td>1527194521</td>\n",
       "      <td>959778</td>\n",
       "      <td>1527194521</td>\n",
       "      <td>959778</td>\n",
       "      <td>None</td>\n",
       "      <td>2016</td>\n",
       "      <td>2016</td>\n",
       "      <td>...</td>\n",
       "      <td>04</td>\n",
       "      <td>ALC</td>\n",
       "      <td>ALC2_2</td>\n",
       "      <td>CRDPREV</td>\n",
       "      <td>OVERALL</td>\n",
       "      <td>OVR</td>\n",
       "      <td>None</td>\n",
       "      <td>None</td>\n",
       "      <td>None</td>\n",
       "      <td>None</td>\n",
       "    </tr>\n",
       "    <tr>\n",
       "      <th>4</th>\n",
       "      <td>5</td>\n",
       "      <td>D98DA5BA-6FD6-40F5-A9B1-ABD45E44967B</td>\n",
       "      <td>5</td>\n",
       "      <td>1527194521</td>\n",
       "      <td>959778</td>\n",
       "      <td>1527194521</td>\n",
       "      <td>959778</td>\n",
       "      <td>None</td>\n",
       "      <td>2016</td>\n",
       "      <td>2016</td>\n",
       "      <td>...</td>\n",
       "      <td>05</td>\n",
       "      <td>ALC</td>\n",
       "      <td>ALC2_2</td>\n",
       "      <td>CRDPREV</td>\n",
       "      <td>OVERALL</td>\n",
       "      <td>OVR</td>\n",
       "      <td>None</td>\n",
       "      <td>None</td>\n",
       "      <td>None</td>\n",
       "      <td>None</td>\n",
       "    </tr>\n",
       "  </tbody>\n",
       "</table>\n",
       "<p>5 rows × 42 columns</p>\n",
       "</div>"
      ],
      "text/plain": [
       "   sid                                    id  position  created_at  \\\n",
       "0    1  FF49C41F-CE8D-46C4-9164-653B1227CF6F         1  1527194521   \n",
       "1    2  F4468C3D-340A-4CD2-84A3-DF554DFF065E         2  1527194521   \n",
       "2    3  65609156-A343-4869-B03F-2BA62E96AC19         3  1527194521   \n",
       "3    4  0DB09B00-EFEB-4AC0-9467-A7CBD2B57BF3         4  1527194521   \n",
       "4    5  D98DA5BA-6FD6-40F5-A9B1-ABD45E44967B         5  1527194521   \n",
       "\n",
       "  created_meta  updated_at updated_meta  meta YearStart YearEnd  \\\n",
       "0       959778  1527194521       959778  None      2016    2016   \n",
       "1       959778  1527194521       959778  None      2016    2016   \n",
       "2       959778  1527194521       959778  None      2016    2016   \n",
       "3       959778  1527194521       959778  None      2016    2016   \n",
       "4       959778  1527194521       959778  None      2016    2016   \n",
       "\n",
       "         ...        LocationID TopicID QuestionID DataValueTypeID  \\\n",
       "0        ...                59     ALC     ALC2_2         CRDPREV   \n",
       "1        ...                01     ALC     ALC2_2         CRDPREV   \n",
       "2        ...                02     ALC     ALC2_2         CRDPREV   \n",
       "3        ...                04     ALC     ALC2_2         CRDPREV   \n",
       "4        ...                05     ALC     ALC2_2         CRDPREV   \n",
       "\n",
       "  StratificationCategoryID1 StratificationID1 StratificationCategoryID2  \\\n",
       "0                   OVERALL               OVR                      None   \n",
       "1                   OVERALL               OVR                      None   \n",
       "2                   OVERALL               OVR                      None   \n",
       "3                   OVERALL               OVR                      None   \n",
       "4                   OVERALL               OVR                      None   \n",
       "\n",
       "  StratificationID2 StratificationCategoryID3 StratificationID3  \n",
       "0              None                      None              None  \n",
       "1              None                      None              None  \n",
       "2              None                      None              None  \n",
       "3              None                      None              None  \n",
       "4              None                      None              None  \n",
       "\n",
       "[5 rows x 42 columns]"
      ]
     },
     "execution_count": 23,
     "metadata": {},
     "output_type": "execute_result"
    }
   ],
   "source": [
    "import pandas as pd\n",
    "df = pd.DataFrame(data['data'])\n",
    "print(df.shape)\n",
    "df.columns = [item['name'] for item in data['meta']['view']['columns']]\n",
    "print(df.columns)\n",
    "df.head()"
   ]
  },
  {
   "cell_type": "markdown",
   "metadata": {},
   "source": [
    "## Level-Up\n",
    "## Create a bar graph of states with the highest asthma rates for adults age 18+"
   ]
  },
  {
   "cell_type": "code",
   "execution_count": 24,
   "metadata": {},
   "outputs": [
    {
     "data": {
      "text/plain": [
       "Influenza vaccination among noninstitutionalized adults aged >= 65 years with asthma       0.186096\n",
       "Pneumococcal vaccination among noninstitutionalized adults aged 18-64 years with asthma    0.372193\n",
       "Influenza vaccination among noninstitutionalized adults aged 18-64 years with asthma       0.558289\n",
       "Pneumococcal vaccination among noninstitutionalized adults aged >= 65 years with asthma    0.744385\n",
       "Current asthma prevalence among adults aged >= 18 years                                    0.930481\n",
       "Asthma prevalence among women aged 18-44 years                                             1.000000\n",
       "Name: Question, dtype: float64"
      ]
     },
     "execution_count": 24,
     "metadata": {},
     "output_type": "execute_result"
    }
   ],
   "source": [
    "df[df.Topic == 'Asthma'].Question.value_counts(normalize=True).cumsum()[:10]"
   ]
  },
  {
   "cell_type": "code",
   "execution_count": 25,
   "metadata": {},
   "outputs": [
    {
     "data": {
      "text/html": [
       "<div>\n",
       "<style scoped>\n",
       "    .dataframe tbody tr th:only-of-type {\n",
       "        vertical-align: middle;\n",
       "    }\n",
       "\n",
       "    .dataframe tbody tr th {\n",
       "        vertical-align: top;\n",
       "    }\n",
       "\n",
       "    .dataframe thead th {\n",
       "        text-align: right;\n",
       "    }\n",
       "</style>\n",
       "<table border=\"1\" class=\"dataframe\">\n",
       "  <thead>\n",
       "    <tr style=\"text-align: right;\">\n",
       "      <th></th>\n",
       "      <th>LocationAbbr</th>\n",
       "      <th>LocationDesc</th>\n",
       "      <th>DataSource</th>\n",
       "      <th>Topic</th>\n",
       "      <th>Question</th>\n",
       "      <th>YearStart</th>\n",
       "      <th>YearEnd</th>\n",
       "      <th>DataValue</th>\n",
       "    </tr>\n",
       "  </thead>\n",
       "  <tbody>\n",
       "    <tr>\n",
       "      <th>4725</th>\n",
       "      <td>IL</td>\n",
       "      <td>Illinois</td>\n",
       "      <td>BRFSS</td>\n",
       "      <td>Asthma</td>\n",
       "      <td>Current asthma prevalence among adults aged &gt;=...</td>\n",
       "      <td>2016</td>\n",
       "      <td>2016</td>\n",
       "      <td>6.5</td>\n",
       "    </tr>\n",
       "    <tr>\n",
       "      <th>5529</th>\n",
       "      <td>IN</td>\n",
       "      <td>Indiana</td>\n",
       "      <td>BRFSS</td>\n",
       "      <td>Asthma</td>\n",
       "      <td>Current asthma prevalence among adults aged &gt;=...</td>\n",
       "      <td>2016</td>\n",
       "      <td>2016</td>\n",
       "      <td>6.7</td>\n",
       "    </tr>\n",
       "    <tr>\n",
       "      <th>5632</th>\n",
       "      <td>IA</td>\n",
       "      <td>Iowa</td>\n",
       "      <td>BRFSS</td>\n",
       "      <td>Asthma</td>\n",
       "      <td>Current asthma prevalence among adults aged &gt;=...</td>\n",
       "      <td>2016</td>\n",
       "      <td>2016</td>\n",
       "      <td>5.6</td>\n",
       "    </tr>\n",
       "    <tr>\n",
       "      <th>6777</th>\n",
       "      <td>KS</td>\n",
       "      <td>Kansas</td>\n",
       "      <td>BRFSS</td>\n",
       "      <td>Asthma</td>\n",
       "      <td>Current asthma prevalence among adults aged &gt;=...</td>\n",
       "      <td>2016</td>\n",
       "      <td>2016</td>\n",
       "      <td>6.1</td>\n",
       "    </tr>\n",
       "    <tr>\n",
       "      <th>7034</th>\n",
       "      <td>KY</td>\n",
       "      <td>Kentucky</td>\n",
       "      <td>BRFSS</td>\n",
       "      <td>Asthma</td>\n",
       "      <td>Current asthma prevalence among adults aged &gt;=...</td>\n",
       "      <td>2016</td>\n",
       "      <td>2016</td>\n",
       "      <td>6.9</td>\n",
       "    </tr>\n",
       "  </tbody>\n",
       "</table>\n",
       "</div>"
      ],
      "text/plain": [
       "     LocationAbbr LocationDesc DataSource   Topic  \\\n",
       "4725           IL     Illinois      BRFSS  Asthma   \n",
       "5529           IN      Indiana      BRFSS  Asthma   \n",
       "5632           IA         Iowa      BRFSS  Asthma   \n",
       "6777           KS       Kansas      BRFSS  Asthma   \n",
       "7034           KY     Kentucky      BRFSS  Asthma   \n",
       "\n",
       "                                               Question YearStart YearEnd  \\\n",
       "4725  Current asthma prevalence among adults aged >=...      2016    2016   \n",
       "5529  Current asthma prevalence among adults aged >=...      2016    2016   \n",
       "5632  Current asthma prevalence among adults aged >=...      2016    2016   \n",
       "6777  Current asthma prevalence among adults aged >=...      2016    2016   \n",
       "7034  Current asthma prevalence among adults aged >=...      2016    2016   \n",
       "\n",
       "     DataValue  \n",
       "4725       6.5  \n",
       "5529       6.7  \n",
       "5632       5.6  \n",
       "6777       6.1  \n",
       "7034       6.9  "
      ]
     },
     "execution_count": 25,
     "metadata": {},
     "output_type": "execute_result"
    }
   ],
   "source": [
    "#Preview the Data\n",
    "cols = ['LocationAbbr', 'LocationDesc', 'DataSource','Topic', 'Question', 'YearStart', 'YearEnd', 'DataValue']\n",
    "view = df[df.Question == 'Current asthma prevalence among adults aged >= 18 years'][cols]\n",
    "view.head()"
   ]
  },
  {
   "cell_type": "code",
   "execution_count": 26,
   "metadata": {},
   "outputs": [
    {
     "data": {
      "text/html": [
       "<div>\n",
       "<style scoped>\n",
       "    .dataframe tbody tr th:only-of-type {\n",
       "        vertical-align: middle;\n",
       "    }\n",
       "\n",
       "    .dataframe tbody tr th {\n",
       "        vertical-align: top;\n",
       "    }\n",
       "\n",
       "    .dataframe thead th {\n",
       "        text-align: right;\n",
       "    }\n",
       "</style>\n",
       "<table border=\"1\" class=\"dataframe\">\n",
       "  <thead>\n",
       "    <tr style=\"text-align: right;\">\n",
       "      <th></th>\n",
       "      <th>LocationAbbr</th>\n",
       "      <th>LocationDesc</th>\n",
       "      <th>DataSource</th>\n",
       "      <th>Topic</th>\n",
       "      <th>Question</th>\n",
       "      <th>YearStart</th>\n",
       "      <th>YearEnd</th>\n",
       "      <th>DataValue</th>\n",
       "    </tr>\n",
       "  </thead>\n",
       "  <tbody>\n",
       "    <tr>\n",
       "      <th>9797</th>\n",
       "      <td>AK</td>\n",
       "      <td>Alaska</td>\n",
       "      <td>BRFSS</td>\n",
       "      <td>Asthma</td>\n",
       "      <td>Current asthma prevalence among adults aged &gt;=...</td>\n",
       "      <td>2016</td>\n",
       "      <td>2016</td>\n",
       "      <td>None</td>\n",
       "    </tr>\n",
       "    <tr>\n",
       "      <th>10013</th>\n",
       "      <td>AK</td>\n",
       "      <td>Alaska</td>\n",
       "      <td>BRFSS</td>\n",
       "      <td>Asthma</td>\n",
       "      <td>Current asthma prevalence among adults aged &gt;=...</td>\n",
       "      <td>2016</td>\n",
       "      <td>2016</td>\n",
       "      <td>10.3</td>\n",
       "    </tr>\n",
       "    <tr>\n",
       "      <th>9427</th>\n",
       "      <td>AK</td>\n",
       "      <td>Alaska</td>\n",
       "      <td>BRFSS</td>\n",
       "      <td>Asthma</td>\n",
       "      <td>Current asthma prevalence among adults aged &gt;=...</td>\n",
       "      <td>2016</td>\n",
       "      <td>2016</td>\n",
       "      <td>9</td>\n",
       "    </tr>\n",
       "    <tr>\n",
       "      <th>9959</th>\n",
       "      <td>AK</td>\n",
       "      <td>Alaska</td>\n",
       "      <td>BRFSS</td>\n",
       "      <td>Asthma</td>\n",
       "      <td>Current asthma prevalence among adults aged &gt;=...</td>\n",
       "      <td>2016</td>\n",
       "      <td>2016</td>\n",
       "      <td>None</td>\n",
       "    </tr>\n",
       "    <tr>\n",
       "      <th>9905</th>\n",
       "      <td>AK</td>\n",
       "      <td>Alaska</td>\n",
       "      <td>BRFSS</td>\n",
       "      <td>Asthma</td>\n",
       "      <td>Current asthma prevalence among adults aged &gt;=...</td>\n",
       "      <td>2016</td>\n",
       "      <td>2016</td>\n",
       "      <td>None</td>\n",
       "    </tr>\n",
       "  </tbody>\n",
       "</table>\n",
       "</div>"
      ],
      "text/plain": [
       "      LocationAbbr LocationDesc DataSource   Topic  \\\n",
       "9797            AK       Alaska      BRFSS  Asthma   \n",
       "10013           AK       Alaska      BRFSS  Asthma   \n",
       "9427            AK       Alaska      BRFSS  Asthma   \n",
       "9959            AK       Alaska      BRFSS  Asthma   \n",
       "9905            AK       Alaska      BRFSS  Asthma   \n",
       "\n",
       "                                                Question YearStart YearEnd  \\\n",
       "9797   Current asthma prevalence among adults aged >=...      2016    2016   \n",
       "10013  Current asthma prevalence among adults aged >=...      2016    2016   \n",
       "9427   Current asthma prevalence among adults aged >=...      2016    2016   \n",
       "9959   Current asthma prevalence among adults aged >=...      2016    2016   \n",
       "9905   Current asthma prevalence among adults aged >=...      2016    2016   \n",
       "\n",
       "      DataValue  \n",
       "9797       None  \n",
       "10013      10.3  \n",
       "9427          9  \n",
       "9959       None  \n",
       "9905       None  "
      ]
     },
     "execution_count": 26,
     "metadata": {},
     "output_type": "execute_result"
    }
   ],
   "source": [
    "# Multiple entries for some states\n",
    "view.sort_values(by='LocationAbbr').head()"
   ]
  },
  {
   "cell_type": "code",
   "execution_count": 27,
   "metadata": {},
   "outputs": [
    {
     "data": {
      "text/plain": [
       "RACE       0.631534\n",
       "GENDER     0.231673\n",
       "OVERALL    0.136794\n",
       "Name: StratificationCategoryID1, dtype: float64"
      ]
     },
     "execution_count": 27,
     "metadata": {},
     "output_type": "execute_result"
    }
   ],
   "source": [
    "df.StratificationCategoryID1.value_counts(normalize=True)"
   ]
  },
  {
   "cell_type": "code",
   "execution_count": 28,
   "metadata": {},
   "outputs": [
    {
     "name": "stdout",
     "output_type": "stream",
     "text": [
      "(110, 42)\n"
     ]
    },
    {
     "data": {
      "text/html": [
       "<div>\n",
       "<style scoped>\n",
       "    .dataframe tbody tr th:only-of-type {\n",
       "        vertical-align: middle;\n",
       "    }\n",
       "\n",
       "    .dataframe tbody tr th {\n",
       "        vertical-align: top;\n",
       "    }\n",
       "\n",
       "    .dataframe thead th {\n",
       "        text-align: right;\n",
       "    }\n",
       "</style>\n",
       "<table border=\"1\" class=\"dataframe\">\n",
       "  <thead>\n",
       "    <tr style=\"text-align: right;\">\n",
       "      <th></th>\n",
       "      <th>sid</th>\n",
       "      <th>id</th>\n",
       "      <th>position</th>\n",
       "      <th>created_at</th>\n",
       "      <th>created_meta</th>\n",
       "      <th>updated_at</th>\n",
       "      <th>updated_meta</th>\n",
       "      <th>meta</th>\n",
       "      <th>YearStart</th>\n",
       "      <th>YearEnd</th>\n",
       "      <th>...</th>\n",
       "      <th>LocationID</th>\n",
       "      <th>TopicID</th>\n",
       "      <th>QuestionID</th>\n",
       "      <th>DataValueTypeID</th>\n",
       "      <th>StratificationCategoryID1</th>\n",
       "      <th>StratificationID1</th>\n",
       "      <th>StratificationCategoryID2</th>\n",
       "      <th>StratificationID2</th>\n",
       "      <th>StratificationCategoryID3</th>\n",
       "      <th>StratificationID3</th>\n",
       "    </tr>\n",
       "  </thead>\n",
       "  <tbody>\n",
       "    <tr>\n",
       "      <th>9372</th>\n",
       "      <td>9370</td>\n",
       "      <td>5D6EDDA9-B241-4498-A262-ED20AB78C44C</td>\n",
       "      <td>9370</td>\n",
       "      <td>1527194523</td>\n",
       "      <td>959778</td>\n",
       "      <td>1527194523</td>\n",
       "      <td>959778</td>\n",
       "      <td>None</td>\n",
       "      <td>2016</td>\n",
       "      <td>2016</td>\n",
       "      <td>...</td>\n",
       "      <td>02</td>\n",
       "      <td>AST</td>\n",
       "      <td>AST1_1</td>\n",
       "      <td>CRDPREV</td>\n",
       "      <td>OVERALL</td>\n",
       "      <td>OVR</td>\n",
       "      <td>None</td>\n",
       "      <td>None</td>\n",
       "      <td>None</td>\n",
       "      <td>None</td>\n",
       "    </tr>\n",
       "    <tr>\n",
       "      <th>9427</th>\n",
       "      <td>9425</td>\n",
       "      <td>332B0889-ED65-4080-9373-D92FE918CD1D</td>\n",
       "      <td>9425</td>\n",
       "      <td>1527194523</td>\n",
       "      <td>959778</td>\n",
       "      <td>1527194523</td>\n",
       "      <td>959778</td>\n",
       "      <td>None</td>\n",
       "      <td>2016</td>\n",
       "      <td>2016</td>\n",
       "      <td>...</td>\n",
       "      <td>02</td>\n",
       "      <td>AST</td>\n",
       "      <td>AST1_1</td>\n",
       "      <td>AGEADJPREV</td>\n",
       "      <td>OVERALL</td>\n",
       "      <td>OVR</td>\n",
       "      <td>None</td>\n",
       "      <td>None</td>\n",
       "      <td>None</td>\n",
       "      <td>None</td>\n",
       "    </tr>\n",
       "    <tr>\n",
       "      <th>9426</th>\n",
       "      <td>9424</td>\n",
       "      <td>CD846EC4-617B-4D38-B287-88DCF9BA8751</td>\n",
       "      <td>9424</td>\n",
       "      <td>1527194523</td>\n",
       "      <td>959778</td>\n",
       "      <td>1527194523</td>\n",
       "      <td>959778</td>\n",
       "      <td>None</td>\n",
       "      <td>2016</td>\n",
       "      <td>2016</td>\n",
       "      <td>...</td>\n",
       "      <td>01</td>\n",
       "      <td>AST</td>\n",
       "      <td>AST1_1</td>\n",
       "      <td>AGEADJPREV</td>\n",
       "      <td>OVERALL</td>\n",
       "      <td>OVR</td>\n",
       "      <td>None</td>\n",
       "      <td>None</td>\n",
       "      <td>None</td>\n",
       "      <td>None</td>\n",
       "    </tr>\n",
       "    <tr>\n",
       "      <th>9371</th>\n",
       "      <td>9369</td>\n",
       "      <td>6BEC61D0-E04B-44BA-8170-F7D6A4C40A09</td>\n",
       "      <td>9369</td>\n",
       "      <td>1527194523</td>\n",
       "      <td>959778</td>\n",
       "      <td>1527194523</td>\n",
       "      <td>959778</td>\n",
       "      <td>None</td>\n",
       "      <td>2016</td>\n",
       "      <td>2016</td>\n",
       "      <td>...</td>\n",
       "      <td>01</td>\n",
       "      <td>AST</td>\n",
       "      <td>AST1_1</td>\n",
       "      <td>CRDPREV</td>\n",
       "      <td>OVERALL</td>\n",
       "      <td>OVR</td>\n",
       "      <td>None</td>\n",
       "      <td>None</td>\n",
       "      <td>None</td>\n",
       "      <td>None</td>\n",
       "    </tr>\n",
       "    <tr>\n",
       "      <th>9374</th>\n",
       "      <td>9372</td>\n",
       "      <td>68F151CE-3084-402C-B672-78A43FBDE287</td>\n",
       "      <td>9372</td>\n",
       "      <td>1527194523</td>\n",
       "      <td>959778</td>\n",
       "      <td>1527194523</td>\n",
       "      <td>959778</td>\n",
       "      <td>None</td>\n",
       "      <td>2016</td>\n",
       "      <td>2016</td>\n",
       "      <td>...</td>\n",
       "      <td>05</td>\n",
       "      <td>AST</td>\n",
       "      <td>AST1_1</td>\n",
       "      <td>CRDPREV</td>\n",
       "      <td>OVERALL</td>\n",
       "      <td>OVR</td>\n",
       "      <td>None</td>\n",
       "      <td>None</td>\n",
       "      <td>None</td>\n",
       "      <td>None</td>\n",
       "    </tr>\n",
       "  </tbody>\n",
       "</table>\n",
       "<p>5 rows × 42 columns</p>\n",
       "</div>"
      ],
      "text/plain": [
       "       sid                                    id  position  created_at  \\\n",
       "9372  9370  5D6EDDA9-B241-4498-A262-ED20AB78C44C      9370  1527194523   \n",
       "9427  9425  332B0889-ED65-4080-9373-D92FE918CD1D      9425  1527194523   \n",
       "9426  9424  CD846EC4-617B-4D38-B287-88DCF9BA8751      9424  1527194523   \n",
       "9371  9369  6BEC61D0-E04B-44BA-8170-F7D6A4C40A09      9369  1527194523   \n",
       "9374  9372  68F151CE-3084-402C-B672-78A43FBDE287      9372  1527194523   \n",
       "\n",
       "     created_meta  updated_at updated_meta  meta YearStart YearEnd  \\\n",
       "9372       959778  1527194523       959778  None      2016    2016   \n",
       "9427       959778  1527194523       959778  None      2016    2016   \n",
       "9426       959778  1527194523       959778  None      2016    2016   \n",
       "9371       959778  1527194523       959778  None      2016    2016   \n",
       "9374       959778  1527194523       959778  None      2016    2016   \n",
       "\n",
       "            ...        LocationID TopicID QuestionID DataValueTypeID  \\\n",
       "9372        ...                02     AST     AST1_1         CRDPREV   \n",
       "9427        ...                02     AST     AST1_1      AGEADJPREV   \n",
       "9426        ...                01     AST     AST1_1      AGEADJPREV   \n",
       "9371        ...                01     AST     AST1_1         CRDPREV   \n",
       "9374        ...                05     AST     AST1_1         CRDPREV   \n",
       "\n",
       "     StratificationCategoryID1 StratificationID1 StratificationCategoryID2  \\\n",
       "9372                   OVERALL               OVR                      None   \n",
       "9427                   OVERALL               OVR                      None   \n",
       "9426                   OVERALL               OVR                      None   \n",
       "9371                   OVERALL               OVR                      None   \n",
       "9374                   OVERALL               OVR                      None   \n",
       "\n",
       "     StratificationID2 StratificationCategoryID3 StratificationID3  \n",
       "9372              None                      None              None  \n",
       "9427              None                      None              None  \n",
       "9426              None                      None              None  \n",
       "9371              None                      None              None  \n",
       "9374              None                      None              None  \n",
       "\n",
       "[5 rows x 42 columns]"
      ]
     },
     "execution_count": 28,
     "metadata": {},
     "output_type": "execute_result"
    }
   ],
   "source": [
    "#Further subset\n",
    "view = df[(df.Question == 'Current asthma prevalence among adults aged >= 18 years')\n",
    "         & (df.StratificationCategoryID1 == 'OVERALL')]\n",
    "view = view.sort_values(by='LocationAbbr')\n",
    "print(view.shape)\n",
    "view.head()"
   ]
  },
  {
   "cell_type": "code",
   "execution_count": 29,
   "metadata": {},
   "outputs": [
    {
     "data": {
      "text/plain": [
       "CRDPREV       55\n",
       "AGEADJPREV    55\n",
       "Name: DataValueTypeID, dtype: int64"
      ]
     },
     "execution_count": 29,
     "metadata": {},
     "output_type": "execute_result"
    }
   ],
   "source": [
    "#Still have duplicates\n",
    "view.DataValueTypeID.value_counts()"
   ]
  },
  {
   "cell_type": "code",
   "execution_count": 30,
   "metadata": {},
   "outputs": [
    {
     "name": "stdout",
     "output_type": "stream",
     "text": [
      "(55, 42)\n"
     ]
    },
    {
     "data": {
      "text/html": [
       "<div>\n",
       "<style scoped>\n",
       "    .dataframe tbody tr th:only-of-type {\n",
       "        vertical-align: middle;\n",
       "    }\n",
       "\n",
       "    .dataframe tbody tr th {\n",
       "        vertical-align: top;\n",
       "    }\n",
       "\n",
       "    .dataframe thead th {\n",
       "        text-align: right;\n",
       "    }\n",
       "</style>\n",
       "<table border=\"1\" class=\"dataframe\">\n",
       "  <thead>\n",
       "    <tr style=\"text-align: right;\">\n",
       "      <th></th>\n",
       "      <th>sid</th>\n",
       "      <th>id</th>\n",
       "      <th>position</th>\n",
       "      <th>created_at</th>\n",
       "      <th>created_meta</th>\n",
       "      <th>updated_at</th>\n",
       "      <th>updated_meta</th>\n",
       "      <th>meta</th>\n",
       "      <th>YearStart</th>\n",
       "      <th>YearEnd</th>\n",
       "      <th>...</th>\n",
       "      <th>LocationID</th>\n",
       "      <th>TopicID</th>\n",
       "      <th>QuestionID</th>\n",
       "      <th>DataValueTypeID</th>\n",
       "      <th>StratificationCategoryID1</th>\n",
       "      <th>StratificationID1</th>\n",
       "      <th>StratificationCategoryID2</th>\n",
       "      <th>StratificationID2</th>\n",
       "      <th>StratificationCategoryID3</th>\n",
       "      <th>StratificationID3</th>\n",
       "    </tr>\n",
       "  </thead>\n",
       "  <tbody>\n",
       "    <tr>\n",
       "      <th>9372</th>\n",
       "      <td>9370</td>\n",
       "      <td>5D6EDDA9-B241-4498-A262-ED20AB78C44C</td>\n",
       "      <td>9370</td>\n",
       "      <td>1527194523</td>\n",
       "      <td>959778</td>\n",
       "      <td>1527194523</td>\n",
       "      <td>959778</td>\n",
       "      <td>None</td>\n",
       "      <td>2016</td>\n",
       "      <td>2016</td>\n",
       "      <td>...</td>\n",
       "      <td>02</td>\n",
       "      <td>AST</td>\n",
       "      <td>AST1_1</td>\n",
       "      <td>CRDPREV</td>\n",
       "      <td>OVERALL</td>\n",
       "      <td>OVR</td>\n",
       "      <td>None</td>\n",
       "      <td>None</td>\n",
       "      <td>None</td>\n",
       "      <td>None</td>\n",
       "    </tr>\n",
       "    <tr>\n",
       "      <th>9371</th>\n",
       "      <td>9369</td>\n",
       "      <td>6BEC61D0-E04B-44BA-8170-F7D6A4C40A09</td>\n",
       "      <td>9369</td>\n",
       "      <td>1527194523</td>\n",
       "      <td>959778</td>\n",
       "      <td>1527194523</td>\n",
       "      <td>959778</td>\n",
       "      <td>None</td>\n",
       "      <td>2016</td>\n",
       "      <td>2016</td>\n",
       "      <td>...</td>\n",
       "      <td>01</td>\n",
       "      <td>AST</td>\n",
       "      <td>AST1_1</td>\n",
       "      <td>CRDPREV</td>\n",
       "      <td>OVERALL</td>\n",
       "      <td>OVR</td>\n",
       "      <td>None</td>\n",
       "      <td>None</td>\n",
       "      <td>None</td>\n",
       "      <td>None</td>\n",
       "    </tr>\n",
       "    <tr>\n",
       "      <th>9374</th>\n",
       "      <td>9372</td>\n",
       "      <td>68F151CE-3084-402C-B672-78A43FBDE287</td>\n",
       "      <td>9372</td>\n",
       "      <td>1527194523</td>\n",
       "      <td>959778</td>\n",
       "      <td>1527194523</td>\n",
       "      <td>959778</td>\n",
       "      <td>None</td>\n",
       "      <td>2016</td>\n",
       "      <td>2016</td>\n",
       "      <td>...</td>\n",
       "      <td>05</td>\n",
       "      <td>AST</td>\n",
       "      <td>AST1_1</td>\n",
       "      <td>CRDPREV</td>\n",
       "      <td>OVERALL</td>\n",
       "      <td>OVR</td>\n",
       "      <td>None</td>\n",
       "      <td>None</td>\n",
       "      <td>None</td>\n",
       "      <td>None</td>\n",
       "    </tr>\n",
       "    <tr>\n",
       "      <th>9373</th>\n",
       "      <td>9371</td>\n",
       "      <td>5FCE0D49-11FD-4545-B9E7-14F503123105</td>\n",
       "      <td>9371</td>\n",
       "      <td>1527194523</td>\n",
       "      <td>959778</td>\n",
       "      <td>1527194523</td>\n",
       "      <td>959778</td>\n",
       "      <td>None</td>\n",
       "      <td>2016</td>\n",
       "      <td>2016</td>\n",
       "      <td>...</td>\n",
       "      <td>04</td>\n",
       "      <td>AST</td>\n",
       "      <td>AST1_1</td>\n",
       "      <td>CRDPREV</td>\n",
       "      <td>OVERALL</td>\n",
       "      <td>OVR</td>\n",
       "      <td>None</td>\n",
       "      <td>None</td>\n",
       "      <td>None</td>\n",
       "      <td>None</td>\n",
       "    </tr>\n",
       "    <tr>\n",
       "      <th>9375</th>\n",
       "      <td>9373</td>\n",
       "      <td>D3F00ED2-A069-4E40-B42B-5A2528A91B6F</td>\n",
       "      <td>9373</td>\n",
       "      <td>1527194523</td>\n",
       "      <td>959778</td>\n",
       "      <td>1527194523</td>\n",
       "      <td>959778</td>\n",
       "      <td>None</td>\n",
       "      <td>2016</td>\n",
       "      <td>2016</td>\n",
       "      <td>...</td>\n",
       "      <td>06</td>\n",
       "      <td>AST</td>\n",
       "      <td>AST1_1</td>\n",
       "      <td>CRDPREV</td>\n",
       "      <td>OVERALL</td>\n",
       "      <td>OVR</td>\n",
       "      <td>None</td>\n",
       "      <td>None</td>\n",
       "      <td>None</td>\n",
       "      <td>None</td>\n",
       "    </tr>\n",
       "  </tbody>\n",
       "</table>\n",
       "<p>5 rows × 42 columns</p>\n",
       "</div>"
      ],
      "text/plain": [
       "       sid                                    id  position  created_at  \\\n",
       "9372  9370  5D6EDDA9-B241-4498-A262-ED20AB78C44C      9370  1527194523   \n",
       "9371  9369  6BEC61D0-E04B-44BA-8170-F7D6A4C40A09      9369  1527194523   \n",
       "9374  9372  68F151CE-3084-402C-B672-78A43FBDE287      9372  1527194523   \n",
       "9373  9371  5FCE0D49-11FD-4545-B9E7-14F503123105      9371  1527194523   \n",
       "9375  9373  D3F00ED2-A069-4E40-B42B-5A2528A91B6F      9373  1527194523   \n",
       "\n",
       "     created_meta  updated_at updated_meta  meta YearStart YearEnd  \\\n",
       "9372       959778  1527194523       959778  None      2016    2016   \n",
       "9371       959778  1527194523       959778  None      2016    2016   \n",
       "9374       959778  1527194523       959778  None      2016    2016   \n",
       "9373       959778  1527194523       959778  None      2016    2016   \n",
       "9375       959778  1527194523       959778  None      2016    2016   \n",
       "\n",
       "            ...        LocationID TopicID QuestionID DataValueTypeID  \\\n",
       "9372        ...                02     AST     AST1_1         CRDPREV   \n",
       "9371        ...                01     AST     AST1_1         CRDPREV   \n",
       "9374        ...                05     AST     AST1_1         CRDPREV   \n",
       "9373        ...                04     AST     AST1_1         CRDPREV   \n",
       "9375        ...                06     AST     AST1_1         CRDPREV   \n",
       "\n",
       "     StratificationCategoryID1 StratificationID1 StratificationCategoryID2  \\\n",
       "9372                   OVERALL               OVR                      None   \n",
       "9371                   OVERALL               OVR                      None   \n",
       "9374                   OVERALL               OVR                      None   \n",
       "9373                   OVERALL               OVR                      None   \n",
       "9375                   OVERALL               OVR                      None   \n",
       "\n",
       "     StratificationID2 StratificationCategoryID3 StratificationID3  \n",
       "9372              None                      None              None  \n",
       "9371              None                      None              None  \n",
       "9374              None                      None              None  \n",
       "9373              None                      None              None  \n",
       "9375              None                      None              None  \n",
       "\n",
       "[5 rows x 42 columns]"
      ]
     },
     "execution_count": 30,
     "metadata": {},
     "output_type": "execute_result"
    }
   ],
   "source": [
    "view = df[(df.Question == 'Current asthma prevalence among adults aged >= 18 years')\n",
    "         & (df.StratificationCategoryID1 == 'OVERALL')\n",
    "         & (df.DataValueTypeID == 'CRDPREV')]\n",
    "view = view.sort_values(by='LocationAbbr')\n",
    "print(view.shape)\n",
    "view.head()"
   ]
  },
  {
   "cell_type": "code",
   "execution_count": 31,
   "metadata": {},
   "outputs": [
    {
     "data": {
      "text/plain": [
       "Text(0.5, 0, 'State')"
      ]
     },
     "execution_count": 31,
     "metadata": {},
     "output_type": "execute_result"
    },
    {
     "data": {
      "image/png": "[encoded data removed]",
      "text/plain": [
       "<Figure size 720x720 with 1 Axes>"
      ]
     },
     "metadata": {
      "needs_background": "light"
     },
     "output_type": "display_data"
    }
   ],
   "source": [
    "import matplotlib.pyplot as plt\n",
    "%matplotlib inline\n",
    "\n",
    "view.DataValue = view.DataValue.astype(float)\n",
    "view = view.sort_values(by='DataValue')\n",
    "view.set_index('LocationAbbr')['DataValue'].plot(kind='bar', figsize=(10,10))\n",
    "plt.title('Asthma Rates by State 2016')\n",
    "plt.ylabel('Percent 18+ with Asthma')\n",
    "plt.xlabel('State')"
   ]
  },
  {
   "cell_type": "markdown",
   "metadata": {},
   "source": [
    "## Level-Up!\n",
    "## Create a function (or class) that returns an outline of the schema structure like this: \n",
    "<img src=\"outline.jpg\" width=350>\n",
    "\n",
    "Rules:\n",
    "* Your outline should follow the numbering outline above (I, A, 1, a, i).\n",
    "* Your outline should be properly indented! (Four spaces or one tab per indentation level.)\n",
    "* Your function goes to at least a depth of 5 (Level-up: create a parameter so that the user can specify this)\n",
    "* If an entry is a dictionary, list its keys as the subheadings\n",
    "* After listing a key name (where applicable) include a space, a dash and the data type of the entry\n",
    "* If an entry is a dict or list put in parentheses how many items are in the entry\n",
    "* lists will not have key names for their entries (they're just indexed)\n",
    "* For subheadings of a list, state their datatypes. \n",
    "* If a dictionary or list is more then 5 items long, only show the first 5 (we want to limit our previews); make an arbitrary order choice for dictionaries. (Level-up: Parallel to above; allow user to specify number of items to preview for large subheading collections.)"
   ]
  },
  {
   "cell_type": "code",
   "execution_count": 32,
   "metadata": {},
   "outputs": [],
   "source": [
    "def get_header(depth, exn):\n",
    "    lvl_headers = [['I', 'II', 'III', 'IV', 'V'],\n",
    "                   ['A', 'B', 'C', 'D', 'E'],\n",
    "                   [i for i in range(1,6)],\n",
    "                   ['a', 'b', 'c', 'd', 'e'],\n",
    "                   ['i', 'ii', 'iii', 'iv', 'v']\n",
    "                  ]\n",
    "    depth = depth % 5 #determine index for deeply nested structures\n",
    "    return lvl_headers[depth][exn]\n",
    "def get_obj_length(obj):\n",
    "    if type(obj) == dict:\n",
    "        return '({} items)'.format(len(obj.keys()))\n",
    "    elif type(obj) == list:\n",
    "        return '({} items)'.format(len(obj))\n",
    "    else:\n",
    "        return \"\"\n",
    "def obj_overview(obj, cur_printout, depth, exn, name=None):\n",
    "    cur_header = get_header(depth, exn)\n",
    "    obj_length = get_obj_length(obj)\n",
    "    if cur_printout == \"\":\n",
    "        cur_printout += \"{}. root - {} {}\".format(cur_header, type(obj), obj_length)\n",
    "        return cur_printout\n",
    "    else:\n",
    "        spaces = ' '*depth*4\n",
    "        newline = '\\n{}{}. {}{} {}'.format(spaces, cur_header, name, type(obj), obj_length)\n",
    "        cur_printout += newline\n",
    "        return cur_printout\n",
    "\n",
    "def print_obj_outline(obj, cur_printout=\"\", depth=0, exn=0, max_en=5, max_depth=10, name=\"\"):\n",
    "    \"\"\"obj is the current data object within the json to be processed.\n",
    "    Call this on the root node, and the function will iteratively build the tree, burrowing down through nested data.\n",
    "    depth is the current depth you are at within the recursive calls. This determines the indentation and what headers to use.\n",
    "    exn is which example number you are on for that iteration, again successive calls update this accordingly.\n",
    "    Name is provided for identifying the keys associated with values from dictionaries.\"\"\"\n",
    "    cur_printout = obj_overview(obj, cur_printout, depth=depth, exn=exn, name=name)\n",
    "    if type(obj) == list:\n",
    "        n_items = 5\n",
    "        if len(obj) < n_items:\n",
    "            n_items = len(obj)\n",
    "        for n, item in enumerate(obj[:n_items]):\n",
    "            cur_printout = print_obj_outline(item, cur_printout=cur_printout, depth=depth+1, exn=n)\n",
    "    elif type(obj) == dict:\n",
    "        n_items = 5\n",
    "        if len(obj.keys()) < n_items:\n",
    "            n_items = len(obj.keys())\n",
    "        firstn = list(obj.keys())[:n_items]\n",
    "        for n, key in enumerate(firstn):\n",
    "            if depth < max_depth:\n",
    "                cur_printout = print_obj_outline(obj[key], cur_printout=cur_printout, depth=depth+1, exn=n, name=key+' ')\n",
    "    else:\n",
    "        pass\n",
    "    return cur_printout\n",
    "\n",
    "    \n",
    "# 1st Draft....work left for demonstrating initial thought process  \n",
    "# def outline_hierarchy(json_obj):\n",
    "#     outer_depth = 1 #initialize depth counter\n",
    "#     inner_depth = 1\n",
    "#     cur_header = get_header(outer_depth-1, inner_depth-1)\n",
    "#     output = \"{}root - {} {}\".format(cur_header, type(json_obj), get_obj_length(json_obj))\n",
    "#     #Initialize a parent object\n",
    "#     parent = json_obj\n",
    "    \n",
    "#     #Depth first search; easier for creating the string by appending\n",
    "#     while outer_depth <= 5:\n",
    "#         while inner_depth <=5:\n",
    "#             #add a new line to our output\n",
    "#             spaces = ' '*4*outer_depth #four spaces is equivalent to a tab\n",
    "#             children = get_children(obj)"
   ]
  },
  {
   "cell_type": "code",
   "execution_count": 33,
   "metadata": {},
   "outputs": [],
   "source": [
    "outline = print_obj_outline(data)"
   ]
  },
  {
   "cell_type": "code",
   "execution_count": 34,
   "metadata": {},
   "outputs": [
    {
     "name": "stdout",
     "output_type": "stream",
     "text": [
      "I. root - <class 'dict'> (2 items)\n",
      "    A. meta <class 'dict'> (1 items)\n",
      "        1. view <class 'dict'> (40 items)\n",
      "            a. id <class 'str'> \n",
      "            b. name <class 'str'> \n",
      "            c. attribution <class 'str'> \n",
      "            d. attributionLink <class 'str'> \n",
      "            e. averageRating <class 'int'> \n",
      "    B. data <class 'list'> (60266 items)\n",
      "        1. <class 'list'> (42 items)\n",
      "            a. <class 'int'> \n",
      "            b. <class 'str'> \n",
      "            c. <class 'int'> \n",
      "            d. <class 'int'> \n",
      "            e. <class 'str'> \n",
      "        2. <class 'list'> (42 items)\n",
      "            a. <class 'int'> \n",
      "            b. <class 'str'> \n",
      "            c. <class 'int'> \n",
      "            d. <class 'int'> \n",
      "            e. <class 'str'> \n",
      "        3. <class 'list'> (42 items)\n",
      "            a. <class 'int'> \n",
      "            b. <class 'str'> \n",
      "            c. <class 'int'> \n",
      "            d. <class 'int'> \n",
      "            e. <class 'str'> \n",
      "        4. <class 'list'> (42 items)\n",
      "            a. <class 'int'> \n",
      "            b. <class 'str'> \n",
      "            c. <class 'int'> \n",
      "            d. <class 'int'> \n",
      "            e. <class 'str'> \n",
      "        5. <class 'list'> (42 items)\n",
      "            a. <class 'int'> \n",
      "            b. <class 'str'> \n",
      "            c. <class 'int'> \n",
      "            d. <class 'int'> \n",
      "            e. <class 'str'> \n"
     ]
    }
   ],
   "source": [
    "print(outline) #Your function should produce the following output for this json object (and work for all json files!)"
   ]
  },
  {
   "cell_type": "markdown",
   "metadata": {},
   "source": [
    "## Summary\n",
    "\n",
    "Well done! In this lab you got some extended practice exploring the structure of JSON files and writing a recursive generalized function for outlining a JSON file's schema! "
   ]
  }
 ],
 "metadata": {
  "kernelspec": {
   "display_name": "learn-env",
   "language": "python",
   "name": "learn-env"
  },
  "language_info": {
   "codemirror_mode": {
    "name": "ipython",
    "version": 3
   },
   "file_extension": ".py",
   "mimetype": "text/x-python",
   "name": "python",
   "nbconvert_exporter": "python",
   "pygments_lexer": "ipython3",
   "version": "3.6.6"
  }
 },
 "nbformat": 4,
 "nbformat_minor": 2
}
